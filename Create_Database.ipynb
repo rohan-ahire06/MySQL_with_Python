{
 "cells": [
  {
   "cell_type": "markdown",
   "id": "1b88e433",
   "metadata": {},
   "source": [
    "## Creating Database in MySQL"
   ]
  },
  {
   "cell_type": "markdown",
   "id": "2afa3794",
   "metadata": {},
   "source": [
    "### Conenct to Data Base"
   ]
  },
  {
   "cell_type": "code",
   "execution_count": 1,
   "id": "89c69a8e",
   "metadata": {},
   "outputs": [
    {
     "name": "stdout",
     "output_type": "stream",
     "text": [
      "<mysql.connector.connection.MySQLConnection object at 0x000001A3F43D2588>\n"
     ]
    }
   ],
   "source": [
    "import mysql.connector as sql\n",
    "\n",
    "connection = sql.connect(\n",
    "    \n",
    "    host='localhost',\n",
    "    user='root',\n",
    "    password='652001'\n",
    ")\n",
    "\n",
    "print(connection)"
   ]
  },
  {
   "cell_type": "markdown",
   "id": "6eb1192a",
   "metadata": {},
   "source": [
    "### Creating The Database"
   ]
  },
  {
   "cell_type": "code",
   "execution_count": 2,
   "id": "c4f8683a",
   "metadata": {},
   "outputs": [],
   "source": [
    "cursor = connection.cursor()\n",
    "\n",
    "cursor.execute(\"CREATE DATABASE MyDatabase\")"
   ]
  },
  {
   "cell_type": "code",
   "execution_count": 3,
   "id": "18448d84",
   "metadata": {},
   "outputs": [],
   "source": [
    "cursor.execute(\"SHOW DATABASES\")"
   ]
  },
  {
   "cell_type": "code",
   "execution_count": 4,
   "id": "4ff85784",
   "metadata": {},
   "outputs": [
    {
     "name": "stdout",
     "output_type": "stream",
     "text": [
      "('information_schema',)\n",
      "('mydatabase',)\n",
      "('mysql',)\n",
      "('name&age',)\n",
      "('performance_schema',)\n",
      "('sakila',)\n",
      "('sys',)\n",
      "('world',)\n"
     ]
    }
   ],
   "source": [
    "for database in cursor:\n",
    "    print(database)"
   ]
  }
 ],
 "metadata": {
  "kernelspec": {
   "display_name": "Python 3",
   "language": "python",
   "name": "python3"
  },
  "language_info": {
   "codemirror_mode": {
    "name": "ipython",
    "version": 3
   },
   "file_extension": ".py",
   "mimetype": "text/x-python",
   "name": "python",
   "nbconvert_exporter": "python",
   "pygments_lexer": "ipython3",
   "version": "3.7.0"
  }
 },
 "nbformat": 4,
 "nbformat_minor": 5
}
