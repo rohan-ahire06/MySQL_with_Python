{
 "cells": [
  {
   "cell_type": "markdown",
   "id": "30c6aeb7",
   "metadata": {},
   "source": [
    "## Create Table"
   ]
  },
  {
   "cell_type": "markdown",
   "id": "aa8234bc",
   "metadata": {},
   "source": [
    "### Connect to databse"
   ]
  },
  {
   "cell_type": "code",
   "execution_count": 1,
   "id": "23016eaa",
   "metadata": {},
   "outputs": [
    {
     "name": "stdout",
     "output_type": "stream",
     "text": [
      "<mysql.connector.connection.MySQLConnection object at 0x000001D9BB3E1DA0>\n"
     ]
    }
   ],
   "source": [
    "import mysql.connector as sql\n",
    "\n",
    "connect = sql.connect(\n",
    "    \n",
    "    host='localhost',\n",
    "    user='root',\n",
    "    password='652001',\n",
    "    database='MyDatabase'\n",
    ")\n",
    "\n",
    "print(connect)"
   ]
  },
  {
   "cell_type": "markdown",
   "id": "a6136c66",
   "metadata": {},
   "source": [
    "### Create Table"
   ]
  },
  {
   "cell_type": "code",
   "execution_count": 2,
   "id": "8727de0c",
   "metadata": {},
   "outputs": [],
   "source": [
    "cursor = connect.cursor()\n",
    "\n",
    "cursor.execute(\"CREATE TABLE stuinfo (id INT AUTO_INCREMENT PRIMARY KEY, name VARCHAR(255), subject VARCHAR(255))\")"
   ]
  },
  {
   "cell_type": "markdown",
   "id": "bf8f17f6",
   "metadata": {},
   "source": [
    "### Enter Details In Table"
   ]
  },
  {
   "cell_type": "code",
   "execution_count": 3,
   "id": "0775e513",
   "metadata": {},
   "outputs": [
    {
     "name": "stdout",
     "output_type": "stream",
     "text": [
      "added 7\n"
     ]
    }
   ],
   "source": [
    "query = \"INSERT INTO info (name,subject) VALUES (%s,%s)\"\n",
    "value = (\"rohan\",\"datascience\")\n",
    "cursor.execute(query,value)\n",
    "print(\"added\",cursor.lastrowid)"
   ]
  },
  {
   "cell_type": "code",
   "execution_count": 4,
   "id": "041b4b38",
   "metadata": {},
   "outputs": [
    {
     "name": "stdout",
     "output_type": "stream",
     "text": [
      "Row inserted 8\n"
     ]
    }
   ],
   "source": [
    "query = \"INSERT INTO info (name,subject) VALUES (%s,%s)\"\n",
    "values = [\n",
    "    \n",
    "    (\"rony\",\"sm\"),\n",
    "    (\"rahul\",\"ls\"),\n",
    "    (\"nazeeh\",\"wp\"),\n",
    "    (\"dhaiwat\",\"wp\"),\n",
    "    (\"harsh\",\"cs\")\n",
    "     \n",
    "     ]\n",
    "     \n",
    "cursor.executemany(query,values)\n",
    "print(\"Row inserted\",cursor.lastrowid)"
   ]
  },
  {
   "cell_type": "markdown",
   "id": "9c9b2e6a",
   "metadata": {},
   "source": [
    "### dispay table"
   ]
  },
  {
   "cell_type": "code",
   "execution_count": 5,
   "id": "0981c91d",
   "metadata": {},
   "outputs": [],
   "source": [
    "cursor = connect.cursor()\n",
    "cursor.execute(\"Select * from info\")"
   ]
  },
  {
   "cell_type": "code",
   "execution_count": 6,
   "id": "cb188677",
   "metadata": {},
   "outputs": [
    {
     "data": {
      "text/plain": [
       "[(7, 'rohan', 'datascience'),\n",
       " (8, 'rony', 'sm'),\n",
       " (9, 'rahul', 'ls'),\n",
       " (10, 'nazeeh', 'wp'),\n",
       " (11, 'dhaiwat', 'wp'),\n",
       " (12, 'harsh', 'cs')]"
      ]
     },
     "execution_count": 6,
     "metadata": {},
     "output_type": "execute_result"
    }
   ],
   "source": [
    "cursor.fetchall()"
   ]
  },
  {
   "cell_type": "markdown",
   "id": "44e4abd1",
   "metadata": {},
   "source": [
    "### Drop table"
   ]
  },
  {
   "cell_type": "code",
   "execution_count": 12,
   "id": "2d9176bf",
   "metadata": {},
   "outputs": [],
   "source": [
    "cursor.execute(\"DROP TABLE info\")"
   ]
  },
  {
   "cell_type": "code",
   "execution_count": 13,
   "id": "f79be17f",
   "metadata": {},
   "outputs": [],
   "source": [
    "cursor.execute(\"DROP TABLE stuinfo\")"
   ]
  }
 ],
 "metadata": {
  "kernelspec": {
   "display_name": "Python 3",
   "language": "python",
   "name": "python3"
  },
  "language_info": {
   "codemirror_mode": {
    "name": "ipython",
    "version": 3
   },
   "file_extension": ".py",
   "mimetype": "text/x-python",
   "name": "python",
   "nbconvert_exporter": "python",
   "pygments_lexer": "ipython3",
   "version": "3.7.0"
  }
 },
 "nbformat": 4,
 "nbformat_minor": 5
}
